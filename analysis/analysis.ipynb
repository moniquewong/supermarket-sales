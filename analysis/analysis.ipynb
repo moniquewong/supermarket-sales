{
 "cells": [
  {
   "cell_type": "markdown",
   "metadata": {
    "Collapsed": "false"
   },
   "source": [
    "# DSCI 531 Lab 4 - Exploratory data analysis"
   ]
  },
  {
   "cell_type": "markdown",
   "metadata": {
    "Collapsed": "false"
   },
   "source": [
    "## Introduction\n",
    "\n",
    "In this lab, you will be choosing a dataset to do some exploratory data analysis. Your goal is to produce a readable, runnable jupyter notebook that takes your audience through the various stages of exploratory data analysis from initially loading the data, to any wrangling or cleaning needed, and finally visualizing trends in the data to help answer the research questions. The purpose of this lab is for you to practice EDA with visualizations and a little bit of wrangling. Its purpose is NOT for you to spend a tonne of time cleaning your data. The sample datsets provided require minimal cleaning. If you choose your own dataset, please ensure you avoid datasets that require too much cleaning. No matter which dataset you choose, there will likely be some wrangling involved. To help you with exploring the data, coming up with good research questions, and any wrangling, the DSCI 531 teaching team has scheduled additional office hours this week to help you. \n",
    "\n",
    "**In addition, Tom has very kindly agreed to open up the instructor and TAs office hours for DSCI 523 for you to get additional help with wrangling.** Though we will not be explicitly assessing wrangling in 531, I encourage you to use our office hours to help you explore the dataset you choose! Note: wrangling can be done in either R or python (if in R, save the wrangled data to disk and read it in) but the plots in this lab must be done in Altair. \n",
    "\n",
    "- **The final version of Lab 4 needs to be submitted by the usual weekly deadline (Saturday November 9th at 6PM)**\n",
    "- **Your peer-review is due at a special time, on Tuesday November 12th at 11:59 PM.**\n",
    "\n",
    "<img src=\"https://i.imgur.com/D0kcArC.png\" alt=\"Read_This\" style=\"width: 150px;\"/>\n",
    "\n",
    "## Lab 4 Learning Outcomes\n",
    "\n",
    "In this lab you will:\n",
    "\n",
    "- Develop an exploratory data analysis plan with an unfamiliar dataset\n",
    "- Apply effective design principles to visual representations of data\n",
    "- Use the `Altair` library in `python` to generate visual representations of data for several plot types\n",
    "\n",
    "## How will I be graded?\n",
    "\n",
    "- The MDS rubrics can be found [here](https://github.com/UBC-MDS/public/tree/master/rubric). \n",
    "- Solutions to the practice problems are provided in the students repo for the course\n",
    "- Each question below is assigned points assigned to MDS rubrics \n",
    "\n",
    "## Overall submission\n",
    "rubric={mechanics:5, writing: 18}\n",
    "\n",
    "- Please make sure you check your spelling, grammar, punctuation, and ensure that your writing has good logical structure and flow\n",
    "- To submit this assignment, submit this jupyter notebook with your answers embedded in the appropriate cells.\n",
    "- Update your README file with the questions and links to your submission.\n",
    "- Follow the general [lab instructions](https://ubc-mds.github.io/resources_pages/general_lab_instructions/).\n",
    "\n",
    "## Pre-lab\n",
    "\n",
    "- Think a bit about which dataset you would like to use for lab 4. The lab will be your opportunity to get feedback from TAs about your ideas on how to explore the dataset you chose. In this lab, you will also be able to use your own data set to do some exploratory data analysis"
   ]
  },
  {
   "cell_type": "code",
   "execution_count": 1,
   "metadata": {
    "Collapsed": "false"
   },
   "outputs": [
    {
     "data": {
      "text/plain": [
       "DataTransformerRegistry.enable('json')"
      ]
     },
     "execution_count": 1,
     "metadata": {},
     "output_type": "execute_result"
    }
   ],
   "source": [
    "# Load packages\n",
    "\n",
    "import pandas as pd\n",
    "import altair as alt\n",
    "\n",
    "# Need to enable this to allow work with larger datasets (https://altair-viz.github.io/user_guide/faq.html)\n",
    "alt.data_transformers.enable('json')"
   ]
  },
  {
   "cell_type": "markdown",
   "metadata": {
    "Collapsed": "false"
   },
   "source": [
    "## 0. Choose a dataset\n",
    "\n",
    "The first three options are all part of the `vega-datasets` python package. You can browse other vega datasets [here](https://observablehq.com/@randomfractals/vega-datasets).\n",
    "\n",
    "Option 1: [`Jobs`](https://raw.githubusercontent.com/vega/vega-datasets/master/data/jobs.json)\n",
    "\n",
    "Option 2: [`Movies`](https://raw.githubusercontent.com/vega/vega-datasets/master/data/movies.json)\n",
    "\n",
    "Option 3: [`Stocks`](https://raw.githubusercontent.com/vega/vega-datasets/master/data/stocks.csv)\n",
    "\n",
    "Option 4: Choose your own dataset (highly recommended that you get this approved by a DSCI531 TA during labs, or office hours)\n",
    "\n",
    "You can search for other datasets here:\n",
    "\n",
    "- [fivethirtyeight](https://data.fivethirtyeight.com)\n",
    "- [Buzzfeed](https://github.com/BuzzFeedNews/everything)\n",
    "- [Data.gov](https://www.data.gov/)\n",
    "- [data.world](https://data.world/) (requires free account)\n",
    "\n",
    "**Note: Though it may sound easy, it is not trivial to choose an interesting and relevant dataset. There are thousands out there and the [tyranny of choice](https://www.economist.com/christmas-specials/2010/12/16/you-choose) is pretty overwhelming. If you really want to choose your own dataset, I'd suggest you set a 30 minute timer, start searching, and then choose one before the timer expires. I advise you NOT to sink too much time into choosing a dataset as it's not the purpose of this lab.**"
   ]
  },
  {
   "cell_type": "markdown",
   "metadata": {
    "Collapsed": "false"
   },
   "source": [
    "## 1. Describe your dataset\n",
    "rubric:{reasoning:4}\n",
    "\n",
    "**Task: Describe your dataset. Consider the following questions to guide you in your exploration**\n",
    "\n",
    "- Who: Which company/agency/organization provided this data?\n",
    "- What: What is in your data?\n",
    "- When: When was your data collected (for example, for which years)?\n",
    "- Why: What is the purpose of your dataset? Is it for transparency/accountability, public interest, fun, learning, etc...\n",
    "- How: How was your data collected? Was it a human collecting the data? Historical records digitized? Server logs?\n",
    "\n",
    "*Submission Hint: You probably will not need more than 250 words to describe your dataset. All the questions above do not need to be answered, it's more to guide your exploration and think a little bit about the context of your data. It is also possible you will not know the answers to some of the questions above, that is FINE - data scientists are often faced with the challenge of analyzing data from unknown sources. Do your best, acknowledge the limitations of your data as well as your understanding of it. Also, make it clear what you're speculating about. For example, \"I speculate that the {...column_name...} column must be related to {....} because {....}.\"*"
   ]
  },
  {
   "cell_type": "markdown",
   "metadata": {
    "Collapsed": "false"
   },
   "source": [
    "> I am using a [Kaggle dataset of supermarket sales](https://www.kaggle.com/aungpyaeap/supermarket-sales/download). The documentation does not tell us which supermarket this is but we can tell from the dataset that the supermarkets are located in Myanmar. This data contains supermarket transactions for 3 different branches of the same supermarket from January to March 2019. \n",
    "\n",
    "> Some examples of attributes available for each transaction is as follows:\n",
    "- Invoice ID as a unique identifier\n",
    "- Branch A, B and C\n",
    "- City that the branch is in\n",
    "- Type of customer to identify those using a member card\n",
    "- Gender of the customer\n",
    "- Product categories of the transaction\n",
    "- Fields for average unit price, quantity of products, total price\n",
    "- Date of purchase\n",
    "- Method of payment\n",
    "- Customer satisfaciton of their shopping experience\n",
    "\n",
    "> It seems that the data set was posted for learning. It is not a part of a Kaggle competition so the company was not explicitly asking for or incentivizing the Kaggle community to analyze the data\n",
    "> The data is likely collected by the point of sale (POS) system at the supermarket. This data seems to have been cleaned or combined though since it is not normal for POS systems to have gross margin data and gender of the purchaser. Especially with the customer satisfaction rating, it could be that customers were incentivized after their purchase to \"scan their receipt and fill out a survey\"."
   ]
  },
  {
   "cell_type": "markdown",
   "metadata": {
    "Collapsed": "false"
   },
   "source": [
    "## 2. Load the dataset\n",
    "rubric:{correctness:1}\n",
    "\n",
    "**Task: Load your dataset from a file, or URL. This needs to be a pandas dataframe so you can use it with Altair. Remember that others may be running your jupyter notebook so it's important that the data is accessible to them. If your dataset isn't accessible as a URL, make sure to commit it into your repo.**"
   ]
  },
  {
   "cell_type": "code",
   "execution_count": 2,
   "metadata": {
    "Collapsed": "false"
   },
   "outputs": [
    {
     "data": {
      "text/html": [
       "<div>\n",
       "<style scoped>\n",
       "    .dataframe tbody tr th:only-of-type {\n",
       "        vertical-align: middle;\n",
       "    }\n",
       "\n",
       "    .dataframe tbody tr th {\n",
       "        vertical-align: top;\n",
       "    }\n",
       "\n",
       "    .dataframe thead th {\n",
       "        text-align: right;\n",
       "    }\n",
       "</style>\n",
       "<table border=\"1\" class=\"dataframe\">\n",
       "  <thead>\n",
       "    <tr style=\"text-align: right;\">\n",
       "      <th></th>\n",
       "      <th>Date_time</th>\n",
       "      <th>Invoice ID</th>\n",
       "      <th>Branch</th>\n",
       "      <th>City</th>\n",
       "      <th>Customer type</th>\n",
       "      <th>Gender</th>\n",
       "      <th>Product line</th>\n",
       "      <th>Unit price</th>\n",
       "      <th>Quantity</th>\n",
       "      <th>Tax 5%</th>\n",
       "      <th>Total</th>\n",
       "      <th>Payment</th>\n",
       "      <th>cogs</th>\n",
       "      <th>gross margin percentage</th>\n",
       "      <th>gross income</th>\n",
       "      <th>Rating</th>\n",
       "    </tr>\n",
       "  </thead>\n",
       "  <tbody>\n",
       "    <tr>\n",
       "      <th>0</th>\n",
       "      <td>2019-01-05 13:08:00</td>\n",
       "      <td>750-67-8428</td>\n",
       "      <td>A</td>\n",
       "      <td>Yangon</td>\n",
       "      <td>Member</td>\n",
       "      <td>Female</td>\n",
       "      <td>Health and beauty</td>\n",
       "      <td>74.69</td>\n",
       "      <td>7</td>\n",
       "      <td>26.1415</td>\n",
       "      <td>548.9715</td>\n",
       "      <td>Ewallet</td>\n",
       "      <td>522.83</td>\n",
       "      <td>4.761905</td>\n",
       "      <td>26.1415</td>\n",
       "      <td>9.1</td>\n",
       "    </tr>\n",
       "    <tr>\n",
       "      <th>1</th>\n",
       "      <td>2019-03-08 10:29:00</td>\n",
       "      <td>226-31-3081</td>\n",
       "      <td>C</td>\n",
       "      <td>Naypyitaw</td>\n",
       "      <td>Normal</td>\n",
       "      <td>Female</td>\n",
       "      <td>Electronic accessories</td>\n",
       "      <td>15.28</td>\n",
       "      <td>5</td>\n",
       "      <td>3.8200</td>\n",
       "      <td>80.2200</td>\n",
       "      <td>Cash</td>\n",
       "      <td>76.40</td>\n",
       "      <td>4.761905</td>\n",
       "      <td>3.8200</td>\n",
       "      <td>9.6</td>\n",
       "    </tr>\n",
       "    <tr>\n",
       "      <th>2</th>\n",
       "      <td>2019-03-03 13:23:00</td>\n",
       "      <td>631-41-3108</td>\n",
       "      <td>A</td>\n",
       "      <td>Yangon</td>\n",
       "      <td>Normal</td>\n",
       "      <td>Male</td>\n",
       "      <td>Home and lifestyle</td>\n",
       "      <td>46.33</td>\n",
       "      <td>7</td>\n",
       "      <td>16.2155</td>\n",
       "      <td>340.5255</td>\n",
       "      <td>Credit card</td>\n",
       "      <td>324.31</td>\n",
       "      <td>4.761905</td>\n",
       "      <td>16.2155</td>\n",
       "      <td>7.4</td>\n",
       "    </tr>\n",
       "    <tr>\n",
       "      <th>3</th>\n",
       "      <td>2019-01-27 20:33:00</td>\n",
       "      <td>123-19-1176</td>\n",
       "      <td>A</td>\n",
       "      <td>Yangon</td>\n",
       "      <td>Member</td>\n",
       "      <td>Male</td>\n",
       "      <td>Health and beauty</td>\n",
       "      <td>58.22</td>\n",
       "      <td>8</td>\n",
       "      <td>23.2880</td>\n",
       "      <td>489.0480</td>\n",
       "      <td>Ewallet</td>\n",
       "      <td>465.76</td>\n",
       "      <td>4.761905</td>\n",
       "      <td>23.2880</td>\n",
       "      <td>8.4</td>\n",
       "    </tr>\n",
       "    <tr>\n",
       "      <th>4</th>\n",
       "      <td>2019-02-08 10:37:00</td>\n",
       "      <td>373-73-7910</td>\n",
       "      <td>A</td>\n",
       "      <td>Yangon</td>\n",
       "      <td>Normal</td>\n",
       "      <td>Male</td>\n",
       "      <td>Sports and travel</td>\n",
       "      <td>86.31</td>\n",
       "      <td>7</td>\n",
       "      <td>30.2085</td>\n",
       "      <td>634.3785</td>\n",
       "      <td>Ewallet</td>\n",
       "      <td>604.17</td>\n",
       "      <td>4.761905</td>\n",
       "      <td>30.2085</td>\n",
       "      <td>5.3</td>\n",
       "    </tr>\n",
       "  </tbody>\n",
       "</table>\n",
       "</div>"
      ],
      "text/plain": [
       "            Date_time   Invoice ID Branch       City Customer type  Gender  \\\n",
       "0 2019-01-05 13:08:00  750-67-8428      A     Yangon        Member  Female   \n",
       "1 2019-03-08 10:29:00  226-31-3081      C  Naypyitaw        Normal  Female   \n",
       "2 2019-03-03 13:23:00  631-41-3108      A     Yangon        Normal    Male   \n",
       "3 2019-01-27 20:33:00  123-19-1176      A     Yangon        Member    Male   \n",
       "4 2019-02-08 10:37:00  373-73-7910      A     Yangon        Normal    Male   \n",
       "\n",
       "             Product line  Unit price  Quantity   Tax 5%     Total  \\\n",
       "0       Health and beauty       74.69         7  26.1415  548.9715   \n",
       "1  Electronic accessories       15.28         5   3.8200   80.2200   \n",
       "2      Home and lifestyle       46.33         7  16.2155  340.5255   \n",
       "3       Health and beauty       58.22         8  23.2880  489.0480   \n",
       "4       Sports and travel       86.31         7  30.2085  634.3785   \n",
       "\n",
       "       Payment    cogs  gross margin percentage  gross income  Rating  \n",
       "0      Ewallet  522.83                 4.761905       26.1415     9.1  \n",
       "1         Cash   76.40                 4.761905        3.8200     9.6  \n",
       "2  Credit card  324.31                 4.761905       16.2155     7.4  \n",
       "3      Ewallet  465.76                 4.761905       23.2880     8.4  \n",
       "4      Ewallet  604.17                 4.761905       30.2085     5.3  "
      ]
     },
     "execution_count": 2,
     "metadata": {},
     "output_type": "execute_result"
    }
   ],
   "source": [
    "df = pd.read_csv('data/supermarket_sales.csv',\n",
    "                 parse_dates = {'Date_time': ['Date', 'Time']})\n",
    "df.head()"
   ]
  },
  {
   "cell_type": "markdown",
   "metadata": {
    "Collapsed": "false"
   },
   "source": [
    "## 3. Explore your dataset\n",
    "rubric:{correctness:5}\n",
    "\n",
    "**Task: Explore the columns in your dataset. Which ones are interesting/relevant? You can use the same scheme I outlined in Lab 3, Exercise 2 or come up with your own system. By now, you should also know about [df.describe()](http://www.datasciencemadesimple.com/descriptive-summary-statistics-python-pandas/) so you can use that as an aid if you think it's useful and appropriate.**"
   ]
  },
  {
   "cell_type": "markdown",
   "metadata": {},
   "source": [
    "> I use `df.info()` to check if there are any missing values in my dataset. It seems like there aren't any."
   ]
  },
  {
   "cell_type": "code",
   "execution_count": 3,
   "metadata": {},
   "outputs": [
    {
     "name": "stdout",
     "output_type": "stream",
     "text": [
      "<class 'pandas.core.frame.DataFrame'>\n",
      "RangeIndex: 1000 entries, 0 to 999\n",
      "Data columns (total 16 columns):\n",
      "Date_time                  1000 non-null datetime64[ns]\n",
      "Invoice ID                 1000 non-null object\n",
      "Branch                     1000 non-null object\n",
      "City                       1000 non-null object\n",
      "Customer type              1000 non-null object\n",
      "Gender                     1000 non-null object\n",
      "Product line               1000 non-null object\n",
      "Unit price                 1000 non-null float64\n",
      "Quantity                   1000 non-null int64\n",
      "Tax 5%                     1000 non-null float64\n",
      "Total                      1000 non-null float64\n",
      "Payment                    1000 non-null object\n",
      "cogs                       1000 non-null float64\n",
      "gross margin percentage    1000 non-null float64\n",
      "gross income               1000 non-null float64\n",
      "Rating                     1000 non-null float64\n",
      "dtypes: datetime64[ns](1), float64(7), int64(1), object(7)\n",
      "memory usage: 125.1+ KB\n"
     ]
    }
   ],
   "source": [
    "df.info()"
   ]
  },
  {
   "cell_type": "markdown",
   "metadata": {},
   "source": [
    "> I calculate some basic characteristics of each of the columns of the dataset below."
   ]
  },
  {
   "cell_type": "code",
   "execution_count": 4,
   "metadata": {},
   "outputs": [
    {
     "name": "stdout",
     "output_type": "stream",
     "text": [
      "There are 1000 transactions in this dataset. \n",
      "\n",
      "There are 3 branches and they are ['A', 'C', 'B'] \n",
      "\n",
      "There are 3 cities and they are ['Yangon', 'Naypyitaw', 'Mandalay'] \n",
      "\n",
      "There are 501 transactions made by women and  499 transactions made by men. \n",
      "\n",
      "There are 152 transactions in Health and Beauty, 170 transactions in Electronic Accessories, 160 transactions in Home and Lifestyle, 166 transactions in Sports and Travel, 178 transactions in Fashion accessories, and 174 transactions in Food and Beverages. \n",
      "\n",
      "Minimum unit price is 10.08 , maximum is 99.96 , and average is 55.67 \n",
      "\n",
      "Minimum quantity of items is 1 , maximum is 10 , and median is 5.0 \n",
      "\n",
      "Minimum transaction total is 10.68 , maximum is 1042.65 , and average is 322.97 \n",
      "\n",
      "Minimum customer satisfaction rating is 4.0 , maximum is 10.0 , and average is 6.97 \n",
      "\n"
     ]
    }
   ],
   "source": [
    "# number of observations\n",
    "print(\"There are\", df.shape[0], \"transactions in this dataset. \\n\")\n",
    "\n",
    "# number of branches\n",
    "print(\"There are\", len(df['Branch'].unique()), \n",
    "      \"branches and they are\", list(df['Branch'].unique()), \"\\n\")\n",
    "\n",
    "# number of cities\n",
    "print(\"There are\", len(df['City'].unique()),\n",
    "      \"cities and they are\", list(df['City'].unique()), \"\\n\")\n",
    "\n",
    "# number of transactions made by women vs. men\n",
    "print(\"There are\", df.query('Gender == \"Female\"').shape[0],\n",
    "      \"transactions made by women and \", df.query('Gender == \"Male\"').shape[0],\n",
    "      \"transactions made by men. \\n\")\n",
    "\n",
    "# number of transactions for each product line\n",
    "print(\"There are\", df.query('`Product line` == \"Health and beauty\"').shape[0],\n",
    "      \"transactions in Health and Beauty,\", \n",
    "      df.query('`Product line` == \"Electronic accessories\"').shape[0],\n",
    "      \"transactions in Electronic Accessories,\", \n",
    "      df.query('`Product line` == \"Home and lifestyle\"').shape[0],\n",
    "      \"transactions in Home and Lifestyle,\", \n",
    "      df.query('`Product line` == \"Sports and travel\"').shape[0],\n",
    "      \"transactions in Sports and Travel,\",\n",
    "      df.query('`Product line` == \"Fashion accessories\"').shape[0],\n",
    "      \"transactions in Fashion accessories, and\",\n",
    "      df.query('`Product line` == \"Food and beverages\"').shape[0],\n",
    "      \"transactions in Food and Beverages. \\n\")\n",
    "\n",
    "# min, max and average unit price\n",
    "print(\"Minimum unit price is\", df['Unit price'].min(),\n",
    "      \", maximum is\", df['Unit price'].max(),\n",
    "      \", and average is\", round(df['Unit price'].mean(), 2), \"\\n\")\n",
    "\n",
    "# min, max and median quantity\n",
    "print(\"Minimum quantity of items is\", df['Quantity'].min(),\n",
    "      \", maximum is\", df['Quantity'].max(),\n",
    "      \", and median is\", df['Quantity'].median(), \"\\n\")\n",
    "\n",
    "# min, max and average transaction total\n",
    "print(\"Minimum transaction total is\", round(df['Total'].min(), 2),\n",
    "      \", maximum is\", round(df['Total'].max(),2),\n",
    "      \", and average is\", round(df['Total'].mean(), 2), \"\\n\")\n",
    "\n",
    "# min, max and average customer satisfaction\n",
    "print(\"Minimum customer satisfaction rating is\", round(df['Rating'].min(), 2),\n",
    "      \", maximum is\", round(df['Rating'].max(),2),\n",
    "      \", and average is\", round(df['Rating'].mean(), 2), \"\\n\")"
   ]
  },
  {
   "cell_type": "markdown",
   "metadata": {},
   "source": [
    "> In addition to the above exploration, I explore the columns by viewing the first few rows of data and explorint some descriptive statistics of the quantitative columns. "
   ]
  },
  {
   "cell_type": "code",
   "execution_count": 5,
   "metadata": {},
   "outputs": [
    {
     "data": {
      "text/html": [
       "<div>\n",
       "<style scoped>\n",
       "    .dataframe tbody tr th:only-of-type {\n",
       "        vertical-align: middle;\n",
       "    }\n",
       "\n",
       "    .dataframe tbody tr th {\n",
       "        vertical-align: top;\n",
       "    }\n",
       "\n",
       "    .dataframe thead th {\n",
       "        text-align: right;\n",
       "    }\n",
       "</style>\n",
       "<table border=\"1\" class=\"dataframe\">\n",
       "  <thead>\n",
       "    <tr style=\"text-align: right;\">\n",
       "      <th></th>\n",
       "      <th>Date_time</th>\n",
       "      <th>Invoice ID</th>\n",
       "      <th>Branch</th>\n",
       "      <th>City</th>\n",
       "      <th>Customer type</th>\n",
       "      <th>Gender</th>\n",
       "      <th>Product line</th>\n",
       "      <th>Unit price</th>\n",
       "      <th>Quantity</th>\n",
       "      <th>Tax 5%</th>\n",
       "      <th>Total</th>\n",
       "      <th>Payment</th>\n",
       "      <th>cogs</th>\n",
       "      <th>gross margin percentage</th>\n",
       "      <th>gross income</th>\n",
       "      <th>Rating</th>\n",
       "    </tr>\n",
       "  </thead>\n",
       "  <tbody>\n",
       "    <tr>\n",
       "      <th>0</th>\n",
       "      <td>2019-01-05 13:08:00</td>\n",
       "      <td>750-67-8428</td>\n",
       "      <td>A</td>\n",
       "      <td>Yangon</td>\n",
       "      <td>Member</td>\n",
       "      <td>Female</td>\n",
       "      <td>Health and beauty</td>\n",
       "      <td>74.69</td>\n",
       "      <td>7</td>\n",
       "      <td>26.1415</td>\n",
       "      <td>548.9715</td>\n",
       "      <td>Ewallet</td>\n",
       "      <td>522.83</td>\n",
       "      <td>4.761905</td>\n",
       "      <td>26.1415</td>\n",
       "      <td>9.1</td>\n",
       "    </tr>\n",
       "    <tr>\n",
       "      <th>1</th>\n",
       "      <td>2019-03-08 10:29:00</td>\n",
       "      <td>226-31-3081</td>\n",
       "      <td>C</td>\n",
       "      <td>Naypyitaw</td>\n",
       "      <td>Normal</td>\n",
       "      <td>Female</td>\n",
       "      <td>Electronic accessories</td>\n",
       "      <td>15.28</td>\n",
       "      <td>5</td>\n",
       "      <td>3.8200</td>\n",
       "      <td>80.2200</td>\n",
       "      <td>Cash</td>\n",
       "      <td>76.40</td>\n",
       "      <td>4.761905</td>\n",
       "      <td>3.8200</td>\n",
       "      <td>9.6</td>\n",
       "    </tr>\n",
       "    <tr>\n",
       "      <th>2</th>\n",
       "      <td>2019-03-03 13:23:00</td>\n",
       "      <td>631-41-3108</td>\n",
       "      <td>A</td>\n",
       "      <td>Yangon</td>\n",
       "      <td>Normal</td>\n",
       "      <td>Male</td>\n",
       "      <td>Home and lifestyle</td>\n",
       "      <td>46.33</td>\n",
       "      <td>7</td>\n",
       "      <td>16.2155</td>\n",
       "      <td>340.5255</td>\n",
       "      <td>Credit card</td>\n",
       "      <td>324.31</td>\n",
       "      <td>4.761905</td>\n",
       "      <td>16.2155</td>\n",
       "      <td>7.4</td>\n",
       "    </tr>\n",
       "    <tr>\n",
       "      <th>3</th>\n",
       "      <td>2019-01-27 20:33:00</td>\n",
       "      <td>123-19-1176</td>\n",
       "      <td>A</td>\n",
       "      <td>Yangon</td>\n",
       "      <td>Member</td>\n",
       "      <td>Male</td>\n",
       "      <td>Health and beauty</td>\n",
       "      <td>58.22</td>\n",
       "      <td>8</td>\n",
       "      <td>23.2880</td>\n",
       "      <td>489.0480</td>\n",
       "      <td>Ewallet</td>\n",
       "      <td>465.76</td>\n",
       "      <td>4.761905</td>\n",
       "      <td>23.2880</td>\n",
       "      <td>8.4</td>\n",
       "    </tr>\n",
       "    <tr>\n",
       "      <th>4</th>\n",
       "      <td>2019-02-08 10:37:00</td>\n",
       "      <td>373-73-7910</td>\n",
       "      <td>A</td>\n",
       "      <td>Yangon</td>\n",
       "      <td>Normal</td>\n",
       "      <td>Male</td>\n",
       "      <td>Sports and travel</td>\n",
       "      <td>86.31</td>\n",
       "      <td>7</td>\n",
       "      <td>30.2085</td>\n",
       "      <td>634.3785</td>\n",
       "      <td>Ewallet</td>\n",
       "      <td>604.17</td>\n",
       "      <td>4.761905</td>\n",
       "      <td>30.2085</td>\n",
       "      <td>5.3</td>\n",
       "    </tr>\n",
       "  </tbody>\n",
       "</table>\n",
       "</div>"
      ],
      "text/plain": [
       "            Date_time   Invoice ID Branch       City Customer type  Gender  \\\n",
       "0 2019-01-05 13:08:00  750-67-8428      A     Yangon        Member  Female   \n",
       "1 2019-03-08 10:29:00  226-31-3081      C  Naypyitaw        Normal  Female   \n",
       "2 2019-03-03 13:23:00  631-41-3108      A     Yangon        Normal    Male   \n",
       "3 2019-01-27 20:33:00  123-19-1176      A     Yangon        Member    Male   \n",
       "4 2019-02-08 10:37:00  373-73-7910      A     Yangon        Normal    Male   \n",
       "\n",
       "             Product line  Unit price  Quantity   Tax 5%     Total  \\\n",
       "0       Health and beauty       74.69         7  26.1415  548.9715   \n",
       "1  Electronic accessories       15.28         5   3.8200   80.2200   \n",
       "2      Home and lifestyle       46.33         7  16.2155  340.5255   \n",
       "3       Health and beauty       58.22         8  23.2880  489.0480   \n",
       "4       Sports and travel       86.31         7  30.2085  634.3785   \n",
       "\n",
       "       Payment    cogs  gross margin percentage  gross income  Rating  \n",
       "0      Ewallet  522.83                 4.761905       26.1415     9.1  \n",
       "1         Cash   76.40                 4.761905        3.8200     9.6  \n",
       "2  Credit card  324.31                 4.761905       16.2155     7.4  \n",
       "3      Ewallet  465.76                 4.761905       23.2880     8.4  \n",
       "4      Ewallet  604.17                 4.761905       30.2085     5.3  "
      ]
     },
     "execution_count": 5,
     "metadata": {},
     "output_type": "execute_result"
    }
   ],
   "source": [
    "df.head()"
   ]
  },
  {
   "cell_type": "code",
   "execution_count": 6,
   "metadata": {},
   "outputs": [
    {
     "data": {
      "text/html": [
       "<div>\n",
       "<style scoped>\n",
       "    .dataframe tbody tr th:only-of-type {\n",
       "        vertical-align: middle;\n",
       "    }\n",
       "\n",
       "    .dataframe tbody tr th {\n",
       "        vertical-align: top;\n",
       "    }\n",
       "\n",
       "    .dataframe thead th {\n",
       "        text-align: right;\n",
       "    }\n",
       "</style>\n",
       "<table border=\"1\" class=\"dataframe\">\n",
       "  <thead>\n",
       "    <tr style=\"text-align: right;\">\n",
       "      <th></th>\n",
       "      <th>Unit price</th>\n",
       "      <th>Quantity</th>\n",
       "      <th>Tax 5%</th>\n",
       "      <th>Total</th>\n",
       "      <th>cogs</th>\n",
       "      <th>gross margin percentage</th>\n",
       "      <th>gross income</th>\n",
       "      <th>Rating</th>\n",
       "    </tr>\n",
       "  </thead>\n",
       "  <tbody>\n",
       "    <tr>\n",
       "      <th>count</th>\n",
       "      <td>1000.000000</td>\n",
       "      <td>1000.000000</td>\n",
       "      <td>1000.000000</td>\n",
       "      <td>1000.000000</td>\n",
       "      <td>1000.00000</td>\n",
       "      <td>1.000000e+03</td>\n",
       "      <td>1000.000000</td>\n",
       "      <td>1000.00000</td>\n",
       "    </tr>\n",
       "    <tr>\n",
       "      <th>mean</th>\n",
       "      <td>55.672130</td>\n",
       "      <td>5.510000</td>\n",
       "      <td>15.379369</td>\n",
       "      <td>322.966749</td>\n",
       "      <td>307.58738</td>\n",
       "      <td>4.761905e+00</td>\n",
       "      <td>15.379369</td>\n",
       "      <td>6.97270</td>\n",
       "    </tr>\n",
       "    <tr>\n",
       "      <th>std</th>\n",
       "      <td>26.494628</td>\n",
       "      <td>2.923431</td>\n",
       "      <td>11.708825</td>\n",
       "      <td>245.885335</td>\n",
       "      <td>234.17651</td>\n",
       "      <td>6.220360e-14</td>\n",
       "      <td>11.708825</td>\n",
       "      <td>1.71858</td>\n",
       "    </tr>\n",
       "    <tr>\n",
       "      <th>min</th>\n",
       "      <td>10.080000</td>\n",
       "      <td>1.000000</td>\n",
       "      <td>0.508500</td>\n",
       "      <td>10.678500</td>\n",
       "      <td>10.17000</td>\n",
       "      <td>4.761905e+00</td>\n",
       "      <td>0.508500</td>\n",
       "      <td>4.00000</td>\n",
       "    </tr>\n",
       "    <tr>\n",
       "      <th>25%</th>\n",
       "      <td>32.875000</td>\n",
       "      <td>3.000000</td>\n",
       "      <td>5.924875</td>\n",
       "      <td>124.422375</td>\n",
       "      <td>118.49750</td>\n",
       "      <td>4.761905e+00</td>\n",
       "      <td>5.924875</td>\n",
       "      <td>5.50000</td>\n",
       "    </tr>\n",
       "    <tr>\n",
       "      <th>50%</th>\n",
       "      <td>55.230000</td>\n",
       "      <td>5.000000</td>\n",
       "      <td>12.088000</td>\n",
       "      <td>253.848000</td>\n",
       "      <td>241.76000</td>\n",
       "      <td>4.761905e+00</td>\n",
       "      <td>12.088000</td>\n",
       "      <td>7.00000</td>\n",
       "    </tr>\n",
       "    <tr>\n",
       "      <th>75%</th>\n",
       "      <td>77.935000</td>\n",
       "      <td>8.000000</td>\n",
       "      <td>22.445250</td>\n",
       "      <td>471.350250</td>\n",
       "      <td>448.90500</td>\n",
       "      <td>4.761905e+00</td>\n",
       "      <td>22.445250</td>\n",
       "      <td>8.50000</td>\n",
       "    </tr>\n",
       "    <tr>\n",
       "      <th>max</th>\n",
       "      <td>99.960000</td>\n",
       "      <td>10.000000</td>\n",
       "      <td>49.650000</td>\n",
       "      <td>1042.650000</td>\n",
       "      <td>993.00000</td>\n",
       "      <td>4.761905e+00</td>\n",
       "      <td>49.650000</td>\n",
       "      <td>10.00000</td>\n",
       "    </tr>\n",
       "  </tbody>\n",
       "</table>\n",
       "</div>"
      ],
      "text/plain": [
       "        Unit price     Quantity       Tax 5%        Total        cogs  \\\n",
       "count  1000.000000  1000.000000  1000.000000  1000.000000  1000.00000   \n",
       "mean     55.672130     5.510000    15.379369   322.966749   307.58738   \n",
       "std      26.494628     2.923431    11.708825   245.885335   234.17651   \n",
       "min      10.080000     1.000000     0.508500    10.678500    10.17000   \n",
       "25%      32.875000     3.000000     5.924875   124.422375   118.49750   \n",
       "50%      55.230000     5.000000    12.088000   253.848000   241.76000   \n",
       "75%      77.935000     8.000000    22.445250   471.350250   448.90500   \n",
       "max      99.960000    10.000000    49.650000  1042.650000   993.00000   \n",
       "\n",
       "       gross margin percentage  gross income      Rating  \n",
       "count             1.000000e+03   1000.000000  1000.00000  \n",
       "mean              4.761905e+00     15.379369     6.97270  \n",
       "std               6.220360e-14     11.708825     1.71858  \n",
       "min               4.761905e+00      0.508500     4.00000  \n",
       "25%               4.761905e+00      5.924875     5.50000  \n",
       "50%               4.761905e+00     12.088000     7.00000  \n",
       "75%               4.761905e+00     22.445250     8.50000  \n",
       "max               4.761905e+00     49.650000    10.00000  "
      ]
     },
     "execution_count": 6,
     "metadata": {},
     "output_type": "execute_result"
    }
   ],
   "source": [
    "df.describe()"
   ]
  },
  {
   "cell_type": "markdown",
   "metadata": {},
   "source": [
    "> - **Unit price**: It seems that this column is just taking an average price of the items in a particular transaction. Usually, a transaction would contain multiple items so it's strange that there is only one unit price.\n",
    "- **Quantity**: They seem to be all integers - this is good and consistent with what I would expect for counts of items.\n",
    "- **Tax 5%**: It seems that this column takes the $\\text{unit price} * \\text{quantity} * 0.05$. This makes sense. This columns is probably not very useful for analysis.\n",
    "- **Total**: It seems that this column is $(\\text{unit price} * \\text{quantity}) + \\text{tax}$. This column is the transaction total, including tax.\n",
    "- **COGS, Gross margin percentage and Gross income**: COGS stands for cost of goods sold in business. To explain how these columns relate to each other:\n",
    "$$\\text{Price} - \\text{COGS} = \\text{Gross income}$$\n",
    "$$\\frac{\\text{Gross income}}{\\text{Price}} = \\textrm{Gross margin percentage}$$\n",
    "    - **Gross margin percentage**:  This seems to be the same across all transactions. This is highly unusual. Usually different items have different profit margins and each transaction's profit margin would reflect the margin of the mix of products in the transaction. It seems that they have applied a company-wide gross margin to each transaction. This limits the analyses I can do on this dataset. For example, I can no longer determine whether some transactions are more profitable than others.\n",
    "    - **COGS and Gross income**: It seems that these columns follow the mathematical relationships outlined above and therefore does not discriminate between the product mix in each transaction."
   ]
  },
  {
   "cell_type": "markdown",
   "metadata": {
    "Collapsed": "false"
   },
   "source": [
    "## 4. Initial thoughts\n",
    "rubric={correctness:1}\n",
    "\n",
    "**Task: Use this a place to record any observations you come up with, anything jump out at you as surprising or particularly interesting? Where do you think you'll go with exploring this dataset? Feel free to take notes in this section and use it as a scratch pad. Any content in this area will not be marked, other than for completeness.**"
   ]
  },
  {
   "cell_type": "markdown",
   "metadata": {
    "Collapsed": "false"
   },
   "source": [
    "> - Given the limitations of the dataset described above, I can probably correlate characteristics of transactions to one another without diving too deep into profits / profit margins. \n",
    "- Some examples of analyses that can be done are:\n",
    "    - How does customer satisfaction relate to total dollars purchased?\n",
    "    - How does gender relate to total dollars purchased?\n",
    "    - How does type of products that a customer buys relate to dollars purchased and per unit cost? \n",
    "    - Does the day of the week relate to transaction size or type of products purchased?\n"
   ]
  },
  {
   "cell_type": "markdown",
   "metadata": {
    "Collapsed": "false"
   },
   "source": [
    "## 5. Wrangling\n",
    "rubric={correctness:1}\n",
    "\n",
    "**Task: You can do any wrangling you need to do here. If you prefer to wrangle in R, that's fine - go ahead and wrangle the data in a different notebook, then export the data as a CSV and then load it in again as a new pandas dataframe. Describe what you're doing (or did) using comments within your code.**"
   ]
  },
  {
   "cell_type": "code",
   "execution_count": 7,
   "metadata": {},
   "outputs": [
    {
     "data": {
      "text/html": [
       "<div>\n",
       "<style scoped>\n",
       "    .dataframe tbody tr th:only-of-type {\n",
       "        vertical-align: middle;\n",
       "    }\n",
       "\n",
       "    .dataframe tbody tr th {\n",
       "        vertical-align: top;\n",
       "    }\n",
       "\n",
       "    .dataframe thead th {\n",
       "        text-align: right;\n",
       "    }\n",
       "</style>\n",
       "<table border=\"1\" class=\"dataframe\">\n",
       "  <thead>\n",
       "    <tr style=\"text-align: right;\">\n",
       "      <th></th>\n",
       "      <th>Date_time</th>\n",
       "      <th>Invoice ID</th>\n",
       "      <th>Branch</th>\n",
       "      <th>City</th>\n",
       "      <th>Customer type</th>\n",
       "      <th>Gender</th>\n",
       "      <th>Product line</th>\n",
       "      <th>Unit price</th>\n",
       "      <th>Quantity</th>\n",
       "      <th>Tax 5%</th>\n",
       "      <th>Total</th>\n",
       "      <th>Payment</th>\n",
       "      <th>cogs</th>\n",
       "      <th>gross margin percentage</th>\n",
       "      <th>gross income</th>\n",
       "      <th>Rating</th>\n",
       "      <th>Day_of_week</th>\n",
       "      <th>Week_num</th>\n",
       "      <th>Weekday_weekend</th>\n",
       "    </tr>\n",
       "  </thead>\n",
       "  <tbody>\n",
       "    <tr>\n",
       "      <th>0</th>\n",
       "      <td>2019-01-05 13:08:00</td>\n",
       "      <td>750-67-8428</td>\n",
       "      <td>A</td>\n",
       "      <td>Yangon</td>\n",
       "      <td>Member</td>\n",
       "      <td>Female</td>\n",
       "      <td>Health and beauty</td>\n",
       "      <td>74.69</td>\n",
       "      <td>7</td>\n",
       "      <td>26.1415</td>\n",
       "      <td>548.9715</td>\n",
       "      <td>Ewallet</td>\n",
       "      <td>522.83</td>\n",
       "      <td>4.761905</td>\n",
       "      <td>26.1415</td>\n",
       "      <td>9.1</td>\n",
       "      <td>Saturday</td>\n",
       "      <td>1</td>\n",
       "      <td>Weekend</td>\n",
       "    </tr>\n",
       "    <tr>\n",
       "      <th>1</th>\n",
       "      <td>2019-03-08 10:29:00</td>\n",
       "      <td>226-31-3081</td>\n",
       "      <td>C</td>\n",
       "      <td>Naypyitaw</td>\n",
       "      <td>Normal</td>\n",
       "      <td>Female</td>\n",
       "      <td>Electronic accessories</td>\n",
       "      <td>15.28</td>\n",
       "      <td>5</td>\n",
       "      <td>3.8200</td>\n",
       "      <td>80.2200</td>\n",
       "      <td>Cash</td>\n",
       "      <td>76.40</td>\n",
       "      <td>4.761905</td>\n",
       "      <td>3.8200</td>\n",
       "      <td>9.6</td>\n",
       "      <td>Friday</td>\n",
       "      <td>10</td>\n",
       "      <td>Weekday</td>\n",
       "    </tr>\n",
       "    <tr>\n",
       "      <th>2</th>\n",
       "      <td>2019-03-03 13:23:00</td>\n",
       "      <td>631-41-3108</td>\n",
       "      <td>A</td>\n",
       "      <td>Yangon</td>\n",
       "      <td>Normal</td>\n",
       "      <td>Male</td>\n",
       "      <td>Home and lifestyle</td>\n",
       "      <td>46.33</td>\n",
       "      <td>7</td>\n",
       "      <td>16.2155</td>\n",
       "      <td>340.5255</td>\n",
       "      <td>Credit card</td>\n",
       "      <td>324.31</td>\n",
       "      <td>4.761905</td>\n",
       "      <td>16.2155</td>\n",
       "      <td>7.4</td>\n",
       "      <td>Sunday</td>\n",
       "      <td>9</td>\n",
       "      <td>Weekend</td>\n",
       "    </tr>\n",
       "    <tr>\n",
       "      <th>3</th>\n",
       "      <td>2019-01-27 20:33:00</td>\n",
       "      <td>123-19-1176</td>\n",
       "      <td>A</td>\n",
       "      <td>Yangon</td>\n",
       "      <td>Member</td>\n",
       "      <td>Male</td>\n",
       "      <td>Health and beauty</td>\n",
       "      <td>58.22</td>\n",
       "      <td>8</td>\n",
       "      <td>23.2880</td>\n",
       "      <td>489.0480</td>\n",
       "      <td>Ewallet</td>\n",
       "      <td>465.76</td>\n",
       "      <td>4.761905</td>\n",
       "      <td>23.2880</td>\n",
       "      <td>8.4</td>\n",
       "      <td>Sunday</td>\n",
       "      <td>4</td>\n",
       "      <td>Weekend</td>\n",
       "    </tr>\n",
       "    <tr>\n",
       "      <th>4</th>\n",
       "      <td>2019-02-08 10:37:00</td>\n",
       "      <td>373-73-7910</td>\n",
       "      <td>A</td>\n",
       "      <td>Yangon</td>\n",
       "      <td>Normal</td>\n",
       "      <td>Male</td>\n",
       "      <td>Sports and travel</td>\n",
       "      <td>86.31</td>\n",
       "      <td>7</td>\n",
       "      <td>30.2085</td>\n",
       "      <td>634.3785</td>\n",
       "      <td>Ewallet</td>\n",
       "      <td>604.17</td>\n",
       "      <td>4.761905</td>\n",
       "      <td>30.2085</td>\n",
       "      <td>5.3</td>\n",
       "      <td>Friday</td>\n",
       "      <td>6</td>\n",
       "      <td>Weekday</td>\n",
       "    </tr>\n",
       "  </tbody>\n",
       "</table>\n",
       "</div>"
      ],
      "text/plain": [
       "            Date_time   Invoice ID Branch       City Customer type  Gender  \\\n",
       "0 2019-01-05 13:08:00  750-67-8428      A     Yangon        Member  Female   \n",
       "1 2019-03-08 10:29:00  226-31-3081      C  Naypyitaw        Normal  Female   \n",
       "2 2019-03-03 13:23:00  631-41-3108      A     Yangon        Normal    Male   \n",
       "3 2019-01-27 20:33:00  123-19-1176      A     Yangon        Member    Male   \n",
       "4 2019-02-08 10:37:00  373-73-7910      A     Yangon        Normal    Male   \n",
       "\n",
       "             Product line  Unit price  Quantity   Tax 5%     Total  \\\n",
       "0       Health and beauty       74.69         7  26.1415  548.9715   \n",
       "1  Electronic accessories       15.28         5   3.8200   80.2200   \n",
       "2      Home and lifestyle       46.33         7  16.2155  340.5255   \n",
       "3       Health and beauty       58.22         8  23.2880  489.0480   \n",
       "4       Sports and travel       86.31         7  30.2085  634.3785   \n",
       "\n",
       "       Payment    cogs  gross margin percentage  gross income  Rating  \\\n",
       "0      Ewallet  522.83                 4.761905       26.1415     9.1   \n",
       "1         Cash   76.40                 4.761905        3.8200     9.6   \n",
       "2  Credit card  324.31                 4.761905       16.2155     7.4   \n",
       "3      Ewallet  465.76                 4.761905       23.2880     8.4   \n",
       "4      Ewallet  604.17                 4.761905       30.2085     5.3   \n",
       "\n",
       "  Day_of_week  Week_num Weekday_weekend  \n",
       "0    Saturday         1         Weekend  \n",
       "1      Friday        10         Weekday  \n",
       "2      Sunday         9         Weekend  \n",
       "3      Sunday         4         Weekend  \n",
       "4      Friday         6         Weekday  "
      ]
     },
     "execution_count": 7,
     "metadata": {},
     "output_type": "execute_result"
    }
   ],
   "source": [
    "# add day of the week\n",
    "df['Day_of_week'] = df['Date_time'].dt.weekday_name\n",
    "\n",
    "# add week number\n",
    "df['Week_num'] = df['Date_time'].dt.week\n",
    "\n",
    "# categorize weekday or weekend\n",
    "df['Weekday_weekend'] = (df['Day_of_week'].apply(\n",
    "    lambda x: 'Weekend' if x == 'Saturday' or  x == 'Sunday' else 'Weekday'))\n",
    "df.head()"
   ]
  },
  {
   "cell_type": "markdown",
   "metadata": {
    "Collapsed": "false"
   },
   "source": [
    "## 6. Research questions\n",
    "rubric={reasoning:5}\n",
    "\n",
    "**Task: come up with at least two research questions about your dataset that will require data visualizations to help answer. Recall that for this purpose, you should only aim for \"Descriptive\" or \"Exploratory\" research questions.**"
   ]
  },
  {
   "cell_type": "markdown",
   "metadata": {
    "Collapsed": "false"
   },
   "source": [
    "> 1. How do each store's and product line's sales contribute to weekly sales trends? \n",
    "    - This is a question I commonly ask when I get sales transaction datasets. I'm trying to quickly find out if there is a particular store or product line that contributes a disproportionate amount in sales from week to week. \n",
    "    - This enables me to prioritize any further analysis - I either focus on stores or product lines that generate the most revenue first or identify weeks of poor sales to try to understand what led to low sales numbers. \n",
    "2. In weeks of poor sales, is there less customer traffic or are the transaction sizes smaller?\n",
    "    - From answering the first research question, I identified that weeks 1, 8 and 13 had the lowest sales. I want to understand if we can pinpoint it whether there are less customers going to stores or if around same number of customers are going to stores but they are spending less. \n",
    "    - We can leverage the relationship of $(\\text{\\$ of sales} = \\text{No. of transactions} * \\text{\\$ per transaction})$, to understand why sales dropped. Either less customers shopped or when they shopped they spent less or both. "
   ]
  },
  {
   "cell_type": "markdown",
   "metadata": {
    "Collapsed": "false"
   },
   "source": [
    "## 7. Data Analysis & Visualizations\n",
    "\n",
    "rubric={viz:40, reasoning:10}\n",
    "\n",
    "**Task: Create data visualizations (and justify your choices) using Altair that will help you answer your research questions.**\n",
    "\n",
    "*Submission Note: It is difficult to give guidelines on how many because so much depends on your choice of research questions. That being said, you should aim for 2-3 high quality effective visualizations (and no more than 4). A faceted plot counts as one visualization. If you cannot come up with 2 effective visualizations, perhaps you need to re-think your research questions (or add more). If you need more than 4, perhaps it's a sign that your research question is too broad. Use your judgment, and understand that we will mark this section as a whole on quality rather than quantity. It is better to have fewer truly effective plots that directly address the research question, than pages and pages of plots that are hard to interpret. You will be evaluated on both your visualization itself (viz rubric) and your justification for selecting it (reasoning rubric).*\n",
    "\n",
    "*Submission Note 2: Remember the website from [data to viz](https://www.data-to-viz.com) to help you choose appropriate visualizations.*\n",
    "\n"
   ]
  },
  {
   "cell_type": "markdown",
   "metadata": {},
   "source": [
    "**Research Question 1: How do each store's and product line's sales contribute to weekly sales trends?**\n",
    "\n",
    "I chose to plot 3 line charts. \n",
    "- The first shows total sales by week so that I can understand trends for weekly sales for the entire supermarket chain. \n",
    "- The second is also weekly sales, but separated by store. I chose not to use a stacked bar chart to represent this since there are only 3 lines and areas of the stacked bar chart would be harder to interpret than 3 coloured lines. A line chart would also enable me to compare sales between stores more easily, especially since sales are on a similar range between stores. \n",
    "- The third plot are faceted line charts of weekly sales by product category. Since there are 6 product categories, it made sense to show them faceted instead of as multiple colors on the same plot. By ensuring that the axes are the same between each faceted plot, I can still compare sales across product lines. "
   ]
  },
  {
   "cell_type": "code",
   "execution_count": 12,
   "metadata": {},
   "outputs": [
    {
     "data": {
      "application/vnd.vegalite.v3+json": {
       "$schema": "https://vega.github.io/schema/vega-lite/v3.4.0.json",
       "config": {
        "mark": {
         "tooltip": null
        },
        "title": {
         "fontSize": 15
        },
        "view": {
         "height": 300,
         "width": 400
        }
       },
       "title": "Sales by Week: total and by store",
       "vconcat": [
        {
         "data": {
          "format": {
           "type": "json"
          },
          "url": "altair-data-825685dbf4d5d1257340237af1a3be03.json"
         },
         "encoding": {
          "tooltip": [
           {
            "field": "Week_num",
            "type": "quantitative"
           },
           {
            "field": "Total",
            "type": "quantitative"
           }
          ],
          "x": {
           "field": "Week_num",
           "title": "Week of the year",
           "type": "quantitative"
          },
          "y": {
           "aggregate": "sum",
           "field": "Total",
           "title": "Total Sales ($)",
           "type": "quantitative"
          }
         },
         "height": 120,
         "mark": "line",
         "title": "Total Sales",
         "width": 500
        },
        {
         "data": {
          "format": {
           "type": "json"
          },
          "url": "altair-data-29a4cc9df47b5d53c31f2d502094ea31.json"
         },
         "encoding": {
          "color": {
           "field": "City",
           "type": "nominal"
          },
          "tooltip": [
           {
            "field": "City",
            "type": "nominal"
           },
           {
            "field": "Total",
            "type": "quantitative"
           }
          ],
          "x": {
           "field": "Week_num",
           "title": "Week of the year",
           "type": "quantitative"
          },
          "y": {
           "aggregate": "sum",
           "field": "Total",
           "title": "Total Sales ($)",
           "type": "quantitative"
          }
         },
         "height": 120,
         "mark": "line",
         "title": "Sales by Store",
         "width": 500
        },
        {
         "columns": 3,
         "data": {
          "format": {
           "type": "json"
          },
          "url": "altair-data-7f82fce74ccf1724ea21866fec5a643f.json"
         },
         "facet": {
          "field": "Product line",
          "type": "nominal"
         },
         "spec": {
          "encoding": {
           "tooltip": [
            {
             "field": "Product line",
             "type": "nominal"
            },
            {
             "field": "Total",
             "type": "quantitative"
            }
           ],
           "x": {
            "field": "Week_num",
            "title": "Week of the year",
            "type": "quantitative"
           },
           "y": {
            "field": "Total",
            "title": "Total Sales ($)",
            "type": "quantitative"
           }
          },
          "height": 100,
          "mark": "line",
          "width": 150
         },
         "title": "Sales by Week: by product line"
        }
       ]
      },
      "image/png": "[encoded data removed]",
      "text/plain": [
       "<VegaLite 3 object>\n",
       "\n",
       "If you see this message, it means the renderer has not been properly enabled\n",
       "for the frontend that you are using. For more information, see\n",
       "https://altair-viz.github.io/user_guide/troubleshooting.html\n"
      ]
     },
     "execution_count": 12,
     "metadata": {},
     "output_type": "execute_result"
    }
   ],
   "source": [
    "# create total sales by week chart\n",
    "sales_by_week = df.groupby(['Week_num'])['Total'].agg('sum').reset_index()\n",
    "by_week = alt.Chart(sales_by_week).mark_line().encode(\n",
    "    alt.X('Week_num', title = \"Week of the year\"),\n",
    "    alt.Y('sum(Total):Q', title = \"Total Sales ($)\"),\n",
    "    alt.Tooltip(['Week_num', 'Total'])\n",
    ").properties(\n",
    "    title = \"Total Sales\",\n",
    "    width = 500,\n",
    "    height = 120\n",
    ")\n",
    "\n",
    "# disaggregate total sales by week to sales by store\n",
    "sales_by_city = df.groupby(['City', 'Week_num'])['Total'].agg('sum').reset_index()\n",
    "by_city = alt.Chart(sales_by_city).mark_line().encode(\n",
    "    alt.X('Week_num', title = \"Week of the year\"),\n",
    "    alt.Y('sum(Total):Q', title = \"Total Sales ($)\"),\n",
    "    alt.Color('City'),\n",
    "    alt.Tooltip(['City', 'Total'])\n",
    ").properties(\n",
    "    title = \"Sales by Store\",\n",
    "    width = 500,\n",
    "    height = 120\n",
    ")\n",
    "\n",
    "# disaggreagate total sales by week to each product line\n",
    "sales_by_product = df.groupby(['Product line', 'Week_num'])['Total'].agg('sum').reset_index()\n",
    "by_product = alt.Chart(sales_by_product).mark_line().encode(\n",
    "    alt.X('Week_num', title = \"Week of the year\"),\n",
    "    alt.Y('Total:Q', title = \"Total Sales ($)\"),\n",
    "    alt.Tooltip(['Product line', 'Total'])\n",
    ").properties(\n",
    "    width = 150,\n",
    "    height = 100\n",
    ").facet(\n",
    "    alt.Facet('Product line'),\n",
    "    columns = 3,\n",
    "    title = \"Sales by Week: by product line\"\n",
    ")\n",
    "\n",
    "# combine all charts\n",
    "(alt.vconcat(by_week, by_city, by_product)\n",
    "    .properties(title = \"Sales by Week: total and by store\")\n",
    "    .configure_title(fontSize = 15)\n",
    ")\n"
   ]
  },
  {
   "cell_type": "markdown",
   "metadata": {},
   "source": [
    "**Research Question 2: In weeks of poor sales, is there less customer traffic or are the transaction sizes smaller?**\n",
    "\n",
    "I chose to plot a bar chart for customer traffic and a boxplot for transaction size. \n",
    "- **Customer traffic:** I am using the number of transactions by week as a proxy for customer traffic. I plot this on a simple bar chart, highlighting the weeks of low sales (Weeks 1, 8, and 13 as identified in the previous analysis) for easier comparison. Bar charts are easy to understand for simple data like this and enables highlighting by week which I would not be able to do on a line chart.\n",
    "- **Transaction size:** I want to show the distribution of transaction sizes by week since the median or average will mask a lot of underlying detail. I made a box plot since it’s easy to compare medians and 25th/75th percentile values across weeks compared to a jitter or strip plot. I also added a line for median transaction size overall as a comparison. "
   ]
  },
  {
   "cell_type": "code",
   "execution_count": 106,
   "metadata": {},
   "outputs": [
    {
     "data": {
      "application/vnd.vegalite.v3+json": {
       "$schema": "https://vega.github.io/schema/vega-lite/v3.4.0.json",
       "config": {
        "mark": {
         "tooltip": null
        },
        "title": {
         "fontSize": 15
        },
        "view": {
         "height": 300,
         "width": 400
        }
       },
       "data": {
        "format": {
         "type": "json"
        },
        "url": "altair-data-d3a117e84db2da5fd5f15717a4fb818e.json"
       },
       "hconcat": [
        {
         "encoding": {
          "color": {
           "condition": {
            "test": "(((datum.Week_num === 1) || (datum.Week_num === 8)) || (datum.Week_num === 13))",
            "value": "orange"
           },
           "value": "steelblue"
          },
          "x": {
           "field": "Week_num",
           "title": "Week of the year",
           "type": "ordinal"
          },
          "y": {
           "aggregate": "count",
           "field": "Invoice ID",
           "title": "No. of transactions",
           "type": "quantitative"
          }
         },
         "height": 300,
         "mark": {
          "size": 14,
          "type": "bar"
         },
         "title": "Customer traffic",
         "width": 300
        },
        {
         "layer": [
          {
           "encoding": {
            "color": {
             "condition": {
              "test": "(((datum.Week_num === 1) || (datum.Week_num === 8)) || (datum.Week_num === 13))",
              "value": "orange"
             },
             "value": "steelblue"
            },
            "x": {
             "field": "Week_num",
             "title": "Week of the year",
             "type": "ordinal"
            },
            "y": {
             "field": "Total",
             "title": "$ per transaction",
             "type": "quantitative"
            }
           },
           "height": 300,
           "mark": "boxplot",
           "title": "Transaction size compared to median",
           "width": 300
          },
          {
           "encoding": {
            "y": {
             "aggregate": "median",
             "field": "Total",
             "type": "quantitative"
            }
           },
           "mark": {
            "color": "red",
            "size": 4,
            "type": "rule"
           }
          }
         ]
        }
       ],
       "title": "Understanding weeks with low sales"
      },
      "image/png": "[encoded data removed]",
      "text/plain": [
       "<VegaLite 3 object>\n",
       "\n",
       "If you see this message, it means the renderer has not been properly enabled\n",
       "for the frontend that you are using. For more information, see\n",
       "https://altair-viz.github.io/user_guide/troubleshooting.html\n"
      ]
     },
     "execution_count": 106,
     "metadata": {},
     "output_type": "execute_result"
    }
   ],
   "source": [
    "# create customer traffic bar chart\n",
    "traffic = alt.Chart(df).mark_bar(size = 14).encode(\n",
    "    alt.X('Week_num:O', title = \"Week of the year\"),\n",
    "    alt.Y('count(Invoice ID):Q', title = \"No. of transactions\"),\n",
    "    color = alt.condition(\n",
    "        (alt.datum.Week_num == 1) | (alt.datum.Week_num == 8) | (alt.datum.Week_num == 13),\n",
    "        alt.value('orange'),\n",
    "        alt.value('steelblue'))\n",
    ").properties(\n",
    "    title = \"Customer traffic\",\n",
    "    width = 300,\n",
    "    height = 300\n",
    ")\n",
    "\n",
    "# create transaction size box plot\n",
    "transaction = alt.Chart(df).mark_boxplot().encode(\n",
    "    alt.X('Week_num:O', title = \"Week of the year\"),\n",
    "    alt.Y('Total:Q', title = \"$ per transaction\"),\n",
    "    color = alt.condition(\n",
    "        (alt.datum.Week_num == 1) | (alt.datum.Week_num == 8) | (alt.datum.Week_num == 13),\n",
    "        alt.value('orange'),\n",
    "        alt.value('steelblue'))\n",
    ").properties(\n",
    "    title = \"Transaction size compared to median\",\n",
    "    width = 300,\n",
    "    height = 300\n",
    ")\n",
    "\n",
    "# add line for median transaction size across all transactions\n",
    "median_transaction = alt.Chart(df).mark_rule(color = 'red', size = 4).encode(\n",
    "    y = 'median(Total):Q'\n",
    ")\n",
    "\n",
    "# show plots together\n",
    "(traffic | (transaction + median_transaction)\n",
    ").properties(\n",
    "    title = \"Understanding weeks with low sales\"\n",
    ").configure_title(\n",
    "    fontSize = 15\n",
    ")\n"
   ]
  },
  {
   "cell_type": "markdown",
   "metadata": {
    "Collapsed": "false"
   },
   "source": [
    "## 8. Summary and conclusions\n",
    "rubric={reasoning:10}\n",
    "\n",
    "**Task: Summarize your findings and describe any conclusions and insight you were able to draw from your visualizations.**"
   ]
  },
  {
   "cell_type": "markdown",
   "metadata": {},
   "source": [
    "-----"
   ]
  },
  {
   "cell_type": "markdown",
   "metadata": {
    "Collapsed": "false"
   },
   "source": [
    "**Research Question 1: How do each store's and product line's sales contribute to weekly sales trends?**\n",
    "\n",
    "Based on the analysis included below, I have found that no particular store or product line is consistently responsible for the peaks and troughs in total sales from week to week. Some interesting insights are:\n",
    "- Mandalay store was responsible for the spike in sales in Week 9 but not in Week 4\n",
    "- Health & Beauty products had high sales in both weeks 4 and 9 where there were high total sales; Health & Beauty even had high sales in week 13 when overall sales were low.\n",
    "- All stores and most products performed less than average in weeks where there were poor sales\n",
    "\n",
    "I would be interested in the following for further analysis:\n",
    "- What led to the increase in sales in Week 9 for the Mandalay store? Is it a particular product line or customer type?\n",
    "- In weeks of poor sales, is there less customer traffic or are the transaction sizes smaller? \n",
    "\n",
    "I break down my insights for each chart:\n",
    "- **Total sales:**\n",
    "\t- Total sales are quite stable over the 3 month period with the lowest performing weeks being Week 1, 8 and 13. \n",
    "\t- Sales peak in weeks 4 and 9. \n",
    "\t- I would be interested to see if by store and by product sales follows these trends. \n",
    "- **Sales by store:**\n",
    "\t- It seems that when the supermarket chain has low sales, all stores have low sales. We can see that in Weeks 1, 8 and 13, all stores experience lower sales than usual. \n",
    "\t- Sales peaked overall in Week 4 because all 3 stores were doing moderately well; Week 4 sales were not particularly high for any individual store. \n",
    "\t- Sales peaked in Week 9 because of the Mandalay store. Week 9 was only an average week for the other two stores. \n",
    "\t- It would be interesting to investigate if a particular product line or type of customer contributed to increased sales in Week 9. \n",
    "- **Sales by product line:**\n",
    "\t- In weeks 1, 8 and 13 of low sales, it doesn’t seem like any of the products sold well. There is one exception: Health & Beauty products in week 13. \n",
    "\t- In weeks 4 and 9, when total sales peak, it is due to a particular combination of product lines doing well but this combination is not the same in Week 4 as in Week 9. In Week 4, Health and Beauty has record sales. In Week 9, Health & Beauty and Electronic Accessories have exceptionally high sales. \n",
    "\t- Health & Beauty and Home & Lifestyle products have the most volatile sales of all product categories. They both have maximum weekly sales of above \\\\$7000 but also minimum weekly sales of below \\\\$1000. "
   ]
  },
  {
   "cell_type": "markdown",
   "metadata": {},
   "source": [
    "-------"
   ]
  },
  {
   "cell_type": "markdown",
   "metadata": {},
   "source": [
    "**Research Question 2: In weeks of poor sales, is there less customer traffic or are the transaction sizes smaller?**\n",
    "- **Customer traffic:** It is clear that the weeks of lowest sales also have the lowest customer traffic measured in number of transactions. \n",
    "- **Transaction size:** The weeks of lowest sales seem to have fewer large transactions. The weeks highlighted in orange have the smallest 75th percentile transactions. However, these weeks do not necessarily have the lowest median transactions.\n",
    "- It seems that the combination of less customers going to stores and those customers having a lower likelihood of making big transactions is what is responsible for the weeks of lower sales. \n",
    "- I would be interested in further understanding:\n",
    "\t- In the weeks of lower customer traffic, is it non-members who are visiting stores less or are members visiting stores less as well?\n",
    "\t- Are there particular product lines that lead to big versus small transaction sizes? Is that what is responsible for the reduced number of big transactions in weeks with low sales? "
   ]
  },
  {
   "cell_type": "markdown",
   "metadata": {
    "Collapsed": "false"
   },
   "source": [
    "## (Optional) 9. Contribute to the Altair package (up to 15 marks)\n",
    "\n",
    "#### Call for contributions\n",
    "\n",
    "This message is from the Altair developers:\n",
    "\n",
    "> We are always interested in new examples contributed from the community.  These could be everything from simple one-panel scatter and line plots, to more\n",
    "complicated layered or stacked plots, to more advanced interactive features. Before submitting a new example check the [Altair Example\n",
    "Gallery](https://altair-viz.github.io/gallery/index.html) to make sure that\n",
    "your idea has not already been implemented. \n",
    "> \n",
    ">The easiest way to get started would be to adapt examples from the [Vega-Lite\n",
    "example gallery](https://vega.github.io/vega-lite/examples/) which are missing\n",
    "in the altair gallery. Or you can feel free to be creative and build your own\n",
    "visualizations.\n",
    "\n",
    "**After going through two weeks of using Altair, you have likely learned many things about its syntax. As the Altair package is still in its infancy and the documentation is still improving, I want to give you a chance to contribute your knowledge and experience back to this open source project. Below are the instructions:**\n",
    "\n",
    "- Go to the issues page of my [fork of the Altair repo](https://github.com/firasm/DSCI_531_2019_altair/issues)\n",
    "- If you know the contribution you want to make, create an issue and tag me (@firasm) so I can give you the go-ahead and assign your future contribution an effort level (see below)\n",
    "- If you do not know the contribution you want to make, browse the list of issues and comment on one you'd like to tackle. It will be first come, first served\n",
    "- I have added all of you as contributors to the repo with write access and protected only the master branch\n",
    "- Checkout a new branch with your cwl and a brief [slug](https://en.wikipedia.org/wiki/Slug_(publishing)) identifying your change (for e.g., `fmoosvi-histogram_line`)\n",
    "- Work on your branch, and once you're done send a PR to my fork. \n",
    "- That is sufficient for you to get the optional marks on this question. \n",
    "- We'll then review it and give you feedback, or make minor changes ourselves and then submit it to the main Altair repo (crediting you as the original author)\n",
    "- It's preferred to use one of the vega datasets as they're open and easily accessible\n",
    "- There are four levels of contributions and they're awarded points based on amount of effort:\n",
    "    - Extreme effort (e.g.: Multiple plot examples, case studies, or major improvements with documentation - 15 points)\n",
    "    - High effort (e.g.: Complex plot examples, case study, or documentation improvements - 10 points)\n",
    "    - Moderate effort (e.g.: A plot example, or minor improvements to documentation - 5 points)\n",
    "    - Basic effort (e.g.: Minimal effort plots and/or changing existing examples to do wrangling using pandas rater than Altair - 1 point)\n",
    "\n",
    "- Once you have an example you would like to add there are a few guide lines to follow. Every example should:\n",
    "    - be saved as a stand alone `.py` file in the `altair/examples/` [directory](https://github.com/firasm/DSCI_531_2019_altair/tree/master/altair/examples).\n",
    "    - have a descriptive docstring, which will eventually be extracted for the\n",
    "  documentation website.\n",
    "    - contain a category tag (possible options: Simple Charts, Bar Charts, Line Charts, Area Charts, Scatter Plots, Histograms, Interactive Charts, Case Studies, Other Charts)\n",
    "    - define a chart variable with the main chart object (This will be used both in the unit tests to confirm that the example executes properly, and also eventually used to display the visualization on the documentation website).\n",
    "    - not make any external calls to download data within the script (i.e. don't\n",
    "  use urllib). You can define your data directly within the example file,\n",
    "  generate your data using pandas and numpy, or you can use data\n",
    "  available in the `vega_datasets` package."
   ]
  },
  {
   "cell_type": "markdown",
   "metadata": {
    "Collapsed": "false"
   },
   "source": [
    "> Add a link to your PR and issue here.\n",
    ">\n",
    "> Link to GH issue: \n",
    ">\n",
    "> PR to Firas' fork: "
   ]
  },
  {
   "cell_type": "markdown",
   "metadata": {
    "Collapsed": "false"
   },
   "source": [
    "### (Optional) 9.1 Extreme effort \n",
    "rubric={quality:15}"
   ]
  },
  {
   "cell_type": "markdown",
   "metadata": {
    "Collapsed": "false"
   },
   "source": [
    "### (Optional) 9.2 High effort \n",
    "rubric={quality:10}"
   ]
  },
  {
   "cell_type": "markdown",
   "metadata": {
    "Collapsed": "false"
   },
   "source": [
    "### (Optional) 9.3 Moderate effort \n",
    "rubric={quality:5}"
   ]
  },
  {
   "cell_type": "markdown",
   "metadata": {
    "Collapsed": "false"
   },
   "source": [
    "### (Optional) 9.4 Basic effort \n",
    "rubric={quality:1}"
   ]
  }
 ],
 "metadata": {
  "kernelspec": {
   "display_name": "Python 3",
   "language": "python",
   "name": "python3"
  },
  "language_info": {
   "codemirror_mode": {
    "name": "ipython",
    "version": 3
   },
   "file_extension": ".py",
   "mimetype": "text/x-python",
   "name": "python",
   "nbconvert_exporter": "python",
   "pygments_lexer": "ipython3",
   "version": "3.7.4"
  }
 },
 "nbformat": 4,
 "nbformat_minor": 4
}
